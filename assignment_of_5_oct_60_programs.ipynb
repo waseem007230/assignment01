{
  "nbformat": 4,
  "nbformat_minor": 0,
  "metadata": {
    "colab": {
      "provenance": [],
      "collapsed_sections": [],
      "authorship_tag": "ABX9TyNXyr7uqkD621a3mluCn7SL",
      "include_colab_link": true
    },
    "kernelspec": {
      "name": "python3",
      "display_name": "Python 3"
    },
    "language_info": {
      "name": "python"
    }
  },
  "cells": [
    {
      "cell_type": "markdown",
      "metadata": {
        "id": "view-in-github",
        "colab_type": "text"
      },
      "source": [
        "<a href=\"https://colab.research.google.com/github/waseem007230/assignment01/blob/master/assignment_of_5_oct_60_programs.ipynb\" target=\"_parent\"><img src=\"https://colab.research.google.com/assets/colab-badge.svg\" alt=\"Open In Colab\"/></a>"
      ]
    },
    {
      "cell_type": "code",
      "execution_count": null,
      "metadata": {
        "id": "99YmeLd786HX"
      },
      "outputs": [],
      "source": [
        "# 1Q\n",
        "p,s=9,8\n",
        "p=p*s\n",
        "print(p)\n",
        "p=p-s\n",
        "print(p)\n",
        "p=int(p/s)\n",
        "print(p)\n",
        "p=p>>s\n",
        "print(p)\n",
        "p=p<<s\n",
        "print(p)"
      ]
    },
    {
      "cell_type": "code",
      "source": [
        "# 2Q Example of multiline comment\n",
        "'''This is \n",
        "   Mohammed Waseem Akram'''\n",
        "   "
      ],
      "metadata": {
        "id": "soj6m1nTj_Lt"
      },
      "execution_count": null,
      "outputs": []
    },
    {
      "cell_type": "code",
      "source": [
        "# 3Q\n",
        "s,t=3,4\n",
        "s=s%t\n",
        "print(s)"
      ],
      "metadata": {
        "id": "MkHoiu2NCNSg",
        "colab": {
          "base_uri": "https://localhost:8080/"
        },
        "outputId": "d71736f2-2076-4ca0-a487-acbe164ebe1a"
      },
      "execution_count": null,
      "outputs": [
        {
          "output_type": "stream",
          "name": "stdout",
          "text": [
            "3\n"
          ]
        }
      ]
    },
    {
      "cell_type": "code",
      "source": [
        "# 4Q\n",
        "A,B=8,10\n",
        "print(A & B)#8\n",
        "print(A | B)#10"
      ],
      "metadata": {
        "colab": {
          "base_uri": "https://localhost:8080/"
        },
        "id": "KILa1trkCS6v",
        "outputId": "25f4a80a-4ed0-4fb8-faf7-f7ce3b4651b5"
      },
      "execution_count": null,
      "outputs": [
        {
          "output_type": "stream",
          "name": "stdout",
          "text": [
            "8\n",
            "10\n"
          ]
        }
      ]
    },
    {
      "cell_type": "code",
      "source": [
        "# 5Q\n",
        "A='waseem akram'\n",
        "len(A)"
      ],
      "metadata": {
        "colab": {
          "base_uri": "https://localhost:8080/"
        },
        "id": "HaxIKAXaHAT9",
        "outputId": "0b03a63b-7736-4c06-f341-06e88cbc1662"
      },
      "execution_count": null,
      "outputs": [
        {
          "output_type": "execute_result",
          "data": {
            "text/plain": [
              "12"
            ]
          },
          "metadata": {},
          "execution_count": 20
        }
      ]
    },
    {
      "cell_type": "code",
      "source": [
        "# 6Q identify invalid variable\n",
        "# Never use any of the Symbols other than  “_”\n",
        "#  Never use White spaces\n",
        "#  Never start first character with a number\n",
        "#  Never use Keywords/Reserved words\n",
        "#  Few Examples of invalid identifiers:\n",
        "# 33, Waseem akram, $akki"
      ],
      "metadata": {
        "id": "XnAKrguvkKwE"
      },
      "execution_count": null,
      "outputs": []
    },
    {
      "cell_type": "code",
      "source": [
        "# 7Q Give Example of Title case and camel case\n",
        "# Title case\n",
        "Hello World\n",
        "# Camel case\n",
        "hello World"
      ],
      "metadata": {
        "id": "GpShatclkTHQ"
      },
      "execution_count": null,
      "outputs": []
    },
    {
      "cell_type": "code",
      "source": [
        "# 8Q\n",
        "a,b,c=1,2,3\n",
        "print(b*(c+a))"
      ],
      "metadata": {
        "colab": {
          "base_uri": "https://localhost:8080/"
        },
        "id": "ttE2nly-HJZ5",
        "outputId": "2dac9038-77aa-4a55-e72b-5a0ae9242570"
      },
      "execution_count": null,
      "outputs": [
        {
          "output_type": "stream",
          "name": "stdout",
          "text": [
            "8\n"
          ]
        }
      ]
    },
    {
      "cell_type": "code",
      "source": [
        "# 9Q\n",
        "A='how are you'\n",
        "for i in range(4,7,1):\n",
        " print(A[i],end='')"
      ],
      "metadata": {
        "colab": {
          "base_uri": "https://localhost:8080/"
        },
        "id": "55x_AqltHccE",
        "outputId": "665bd102-8781-4746-a558-ff0e32eab9be"
      },
      "execution_count": null,
      "outputs": [
        {
          "output_type": "stream",
          "name": "stdout",
          "text": [
            "are"
          ]
        }
      ]
    },
    {
      "cell_type": "code",
      "source": [
        "# 10Q\n",
        "import cmath\n",
        "x,y=5,5\n",
        "z=complex(x,y)\n",
        "z"
      ],
      "metadata": {
        "colab": {
          "base_uri": "https://localhost:8080/"
        },
        "id": "5fihqc3EH7nP",
        "outputId": "47864b07-6aa3-4fec-834c-bab6de7d490e"
      },
      "execution_count": null,
      "outputs": [
        {
          "output_type": "execute_result",
          "data": {
            "text/plain": [
              "(5+5j)"
            ]
          },
          "metadata": {},
          "execution_count": 29
        }
      ]
    },
    {
      "cell_type": "code",
      "source": [
        "# 11Q\n",
        "# bool({})#False\n",
        "bool(False)#False"
      ],
      "metadata": {
        "colab": {
          "base_uri": "https://localhost:8080/"
        },
        "id": "b0tkTmrQITC0",
        "outputId": "5bd5f20f-9ca7-4715-938c-0666f1da3c5d"
      },
      "execution_count": null,
      "outputs": [
        {
          "output_type": "execute_result",
          "data": {
            "text/plain": [
              "False"
            ]
          },
          "metadata": {},
          "execution_count": 31
        }
      ]
    },
    {
      "cell_type": "code",
      "source": [
        "# 12Q\n",
        "a=(1,[2,3])\n",
        "b=[1,2,'f']\n",
        "c='hey1'\n",
        "d=123\n",
        "e={(1,2):['e']}\n",
        "type(a) # tuple\n",
        "type(b) # list\n",
        "type(c) # string\n",
        "type(d) # numeric\n",
        "type(e) # dictionary"
      ],
      "metadata": {
        "colab": {
          "base_uri": "https://localhost:8080/"
        },
        "id": "u6INjoGpIceH",
        "outputId": "8b2b73e0-5c6d-4c1a-beb4-e6ff5c4bcdfb"
      },
      "execution_count": null,
      "outputs": [
        {
          "output_type": "execute_result",
          "data": {
            "text/plain": [
              "dict"
            ]
          },
          "metadata": {},
          "execution_count": 33
        }
      ]
    },
    {
      "cell_type": "code",
      "source": [
        "# 13Q\n",
        "print(10==9)#False"
      ],
      "metadata": {
        "colab": {
          "base_uri": "https://localhost:8080/"
        },
        "id": "oghYdkp8KOJI",
        "outputId": "4bb8bfdc-55d1-4de7-884f-3184c8d456d6"
      },
      "execution_count": null,
      "outputs": [
        {
          "output_type": "stream",
          "name": "stdout",
          "text": [
            "False\n"
          ]
        }
      ]
    },
    {
      "cell_type": "code",
      "source": [
        "# 14Q\n",
        "quantity=3\n",
        "itemno=567\n",
        "price=49.95\n",
        "myorder='I want to pay {2} dolloars for {0} pieces of item {1}'\n",
        "print(myorder.format(quantity,itemno,price))\n"
      ],
      "metadata": {
        "colab": {
          "base_uri": "https://localhost:8080/"
        },
        "id": "pLFXao7TJ_Jv",
        "outputId": "bc85ede3-527e-4960-a883-96fa3cd5cb92"
      },
      "execution_count": null,
      "outputs": [
        {
          "output_type": "stream",
          "name": "stdout",
          "text": [
            "I want to pay 49.95 dolloars for 3 pieces of item 567\n"
          ]
        }
      ]
    },
    {
      "cell_type": "code",
      "source": [
        "# 15Q convert the words 'miss' and 'python' to 'mam' and C  respt without declaring the string\n",
        "B='hey miss! Welcome to python'\n",
        "print(B.replace('miss','mam').replace('python','c'))"
      ],
      "metadata": {
        "id": "1eaWx9MZMSV5",
        "colab": {
          "base_uri": "https://localhost:8080/"
        },
        "outputId": "027af6fc-7614-4efa-ecc6-fa2c0857332d"
      },
      "execution_count": null,
      "outputs": [
        {
          "output_type": "stream",
          "name": "stdout",
          "text": [
            "hey mam! Welcome to c\n"
          ]
        }
      ]
    },
    {
      "cell_type": "code",
      "source": [
        "# Q16 Convert the strin to title case and lower case\n",
        "C='HYderabaD'\n",
        "print(C.title())"
      ],
      "metadata": {
        "id": "6uVSxzhPMwTk",
        "colab": {
          "base_uri": "https://localhost:8080/"
        },
        "outputId": "ce539e1d-4156-48fa-c1e5-50c322969a75"
      },
      "execution_count": null,
      "outputs": [
        {
          "output_type": "stream",
          "name": "stdout",
          "text": [
            "Hyderabad\n"
          ]
        }
      ]
    },
    {
      "cell_type": "code",
      "source": [
        "# 17Q print How many numbers of A/a are there without counting manually\n",
        "D= 'All apples are red in colour and roundin shape'\n",
        "B=D.count('A')\n",
        "C=D.count('a')\n",
        "print(f'Numbers of A = {B} and Numbers of a = {C}')"
      ],
      "metadata": {
        "id": "ZeCjwaWnM-p7",
        "colab": {
          "base_uri": "https://localhost:8080/"
        },
        "outputId": "c65e7fa2-2ebf-4bb5-c473-516fa6720e55"
      },
      "execution_count": 1,
      "outputs": [
        {
          "output_type": "stream",
          "name": "stdout",
          "text": [
            "Numbers of A 1 and Numbers of a 4\n"
          ]
        }
      ]
    },
    {
      "cell_type": "code",
      "source": [
        "# 18Q \n",
        "x={1,2,3,4,5}\n",
        "y={4,5,6,7,8}\n",
        "print(x + y)# error unsupported oprand"
      ],
      "metadata": {
        "id": "CtoCz5M3NgsL"
      },
      "execution_count": null,
      "outputs": []
    },
    {
      "cell_type": "code",
      "source": [
        "# 19Q \n",
        "x={1,2,3,4,5}\n",
        "y={4,5,6,7,8,9}\n",
        "print(x | y)"
      ],
      "metadata": {
        "colab": {
          "base_uri": "https://localhost:8080/"
        },
        "id": "ZrHj_zXdN3pr",
        "outputId": "80e37af7-1826-4b83-cb93-5de73dfc82bb"
      },
      "execution_count": null,
      "outputs": [
        {
          "output_type": "stream",
          "name": "stdout",
          "text": [
            "{1, 2, 3, 4, 5, 6, 7, 8, 9}\n"
          ]
        }
      ]
    },
    {
      "cell_type": "code",
      "source": [
        "# 20Q\n",
        "print(0|True)#1\n",
        "print(0==True)# False\n",
        "print('19'==19)# False"
      ],
      "metadata": {
        "colab": {
          "base_uri": "https://localhost:8080/"
        },
        "id": "rzobxNM8OFEU",
        "outputId": "6bd74a48-372e-4c9c-b891-89e064af6705"
      },
      "execution_count": null,
      "outputs": [
        {
          "output_type": "stream",
          "name": "stdout",
          "text": [
            "1\n",
            "False\n",
            "False\n"
          ]
        }
      ]
    },
    {
      "cell_type": "code",
      "source": [
        "# 21Q WAP to Add first n numbers\n",
        "n=int(input('Enter a number to add natural number: '))\n",
        "b=0\n",
        "for i in range(1,n+1):\n",
        "  b=b+i\n",
        "print(b)"
      ],
      "metadata": {
        "id": "ZMepJQpTOgxv",
        "colab": {
          "base_uri": "https://localhost:8080/"
        },
        "outputId": "9a6d4677-c070-4c3e-805a-3795d3011c7b"
      },
      "execution_count": null,
      "outputs": [
        {
          "output_type": "stream",
          "name": "stdout",
          "text": [
            "Enter a number to add from 1: 10\n",
            "55\n"
          ]
        }
      ]
    },
    {
      "cell_type": "code",
      "source": [
        "# 22Q WAP to loop over the items in fruits list?\n",
        "fruits=['apple', 'orange', 'kiwi']\n",
        "for i in fruits:\n",
        "  print(i)\n"
      ],
      "metadata": {
        "id": "BdhAA5BRYNgA",
        "colab": {
          "base_uri": "https://localhost:8080/"
        },
        "outputId": "8f16ba49-84a2-4f18-bf65-61b223eb1261"
      },
      "execution_count": null,
      "outputs": [
        {
          "output_type": "stream",
          "name": "stdout",
          "text": [
            "apple\n",
            "orange\n",
            "kiwi\n"
          ]
        }
      ]
    },
    {
      "cell_type": "code",
      "source": [
        "# 23Q WAP to print 6 tables using for and while loop\n",
        "a=int(input('Enter starting table: '))\n",
        "b=int(input('Enter ending table: '))\n",
        "i,j=a,1\n",
        "while (i<b+1):\n",
        "  j=1\n",
        "  while (j<11):\n",
        "    print(i ,'x', j, '=', i*j)\n",
        "    j+=1\n",
        "  i=i+1\n",
        "  "
      ],
      "metadata": {
        "id": "X1Fr7UC_Ygvx"
      },
      "execution_count": null,
      "outputs": []
    },
    {
      "cell_type": "code",
      "source": [
        "a=int(input('Enter starting table: '))\n",
        "b=int(input('Enter ending table: '))\n",
        "for i in range(a,b+1):\n",
        "  for j in range(1,11):\n",
        "    print(i ,'x', j, '=', i*j)"
      ],
      "metadata": {
        "id": "c1M1zgO-mJmE"
      },
      "execution_count": null,
      "outputs": []
    },
    {
      "cell_type": "code",
      "source": [
        "# 24Q WAP to get the value of 6power4\n",
        "print(6**4)"
      ],
      "metadata": {
        "id": "twNT7_RTYtS3",
        "colab": {
          "base_uri": "https://localhost:8080/"
        },
        "outputId": "96015762-0fe4-4416-ae0d-4fc2a79e4dd0"
      },
      "execution_count": null,
      "outputs": [
        {
          "output_type": "stream",
          "name": "stdout",
          "text": [
            "1296\n"
          ]
        }
      ]
    },
    {
      "cell_type": "code",
      "source": [
        "# 25Q O/P of the below code\n",
        "for x in [1,2,3]:\n",
        "  print(x-1)"
      ],
      "metadata": {
        "id": "huYPZQ_8Y1bN",
        "colab": {
          "base_uri": "https://localhost:8080/"
        },
        "outputId": "74b1c831-88d0-491d-f0f1-f9735dbd040e"
      },
      "execution_count": null,
      "outputs": [
        {
          "output_type": "stream",
          "name": "stdout",
          "text": [
            "0\n",
            "1\n",
            "2\n"
          ]
        }
      ]
    },
    {
      "cell_type": "code",
      "source": [
        "# 26Q O/P of \n",
        "tuple=('abcd',786,2.23,'jhon',70.2)\n",
        "print(tuple[0])"
      ],
      "metadata": {
        "colab": {
          "base_uri": "https://localhost:8080/"
        },
        "id": "vsC8vPf-ZO1u",
        "outputId": "25e1457a-c269-4ce4-89e9-73cfa3a946df"
      },
      "execution_count": null,
      "outputs": [
        {
          "output_type": "stream",
          "name": "stdout",
          "text": [
            "abcd\n"
          ]
        }
      ]
    },
    {
      "cell_type": "code",
      "source": [
        "# 27Q What is o/p of L[-2] if L=[1,2,3]\n",
        "L=[1,2,3]\n",
        "print(L[-2])"
      ],
      "metadata": {
        "colab": {
          "base_uri": "https://localhost:8080/"
        },
        "id": "oiq3Zm79Z5jn",
        "outputId": "7ea0a56f-bd5c-4c67-c607-cf32c2b36292"
      },
      "execution_count": null,
      "outputs": [
        {
          "output_type": "stream",
          "name": "stdout",
          "text": [
            "2\n"
          ]
        }
      ]
    },
    {
      "cell_type": "code",
      "source": [
        "# 28Q o/p of given code\n",
        "colors=['white','black','grey']\n",
        "x='red' not in colors\n",
        "print(x)"
      ],
      "metadata": {
        "colab": {
          "base_uri": "https://localhost:8080/"
        },
        "id": "eOxcBaAkaUh9",
        "outputId": "8f2e3336-7d25-4ed8-f2b5-12086b4c89a7"
      },
      "execution_count": null,
      "outputs": [
        {
          "output_type": "stream",
          "name": "stdout",
          "text": [
            "True\n"
          ]
        }
      ]
    },
    {
      "cell_type": "code",
      "source": [
        "# 29Q Which is mutable and immutable in list and tuple\n",
        "# ANS: list is mutable because we can add,remove and modify the elements of list\n",
        "# tuple is immutable because we cannot add,remove and modify the elements of list"
      ],
      "metadata": {
        "id": "22EGvhHLa2Ae"
      },
      "execution_count": null,
      "outputs": []
    },
    {
      "cell_type": "code",
      "source": [
        "# 30Q What is the output of tiny*3 if tiny =[123,'jhon']\n",
        "tiny =[123,'jhon']\n",
        "print(tiny*3)"
      ],
      "metadata": {
        "colab": {
          "base_uri": "https://localhost:8080/"
        },
        "id": "kKn-V4TAbIOu",
        "outputId": "163b32c8-e2b3-4e2d-ca9b-7a038a071567"
      },
      "execution_count": null,
      "outputs": [
        {
          "output_type": "stream",
          "name": "stdout",
          "text": [
            "[123, 'jhon', 123, 'jhon', 123, 'jhon']\n"
          ]
        }
      ]
    },
    {
      "cell_type": "code",
      "source": [
        "# 31Q Which is the function to check in string that all characters are alphanumeric\n",
        "A='123abc'\n",
        "A.isalnum()\n"
      ],
      "metadata": {
        "id": "RxaSc2mLbeMr",
        "colab": {
          "base_uri": "https://localhost:8080/"
        },
        "outputId": "e0c31353-98ff-485d-e5a4-123c392ba083"
      },
      "execution_count": null,
      "outputs": [
        {
          "output_type": "execute_result",
          "data": {
            "text/plain": [
              "True"
            ]
          },
          "metadata": {},
          "execution_count": 84
        }
      ]
    },
    {
      "cell_type": "code",
      "source": [
        "# 32Q What is a command line to get the output as heshewe\n",
        "a=['he','she','we']\n",
        "b=a[0]+a[1]+a[2]\n",
        "b"
      ],
      "metadata": {
        "id": "1c07Z41Lbv-l",
        "colab": {
          "base_uri": "https://localhost:8080/",
          "height": 35
        },
        "outputId": "db7678df-c904-4986-b2e6-9e8ecb824647"
      },
      "execution_count": null,
      "outputs": [
        {
          "output_type": "execute_result",
          "data": {
            "text/plain": [
              "'heshewe'"
            ],
            "application/vnd.google.colaboratory.intrinsic+json": {
              "type": "string"
            }
          },
          "metadata": {},
          "execution_count": 19
        }
      ]
    },
    {
      "cell_type": "code",
      "source": [
        "# 33Q What is the position of number 3\n",
        "L=[1,2,1,[2,3],5]\n",
        "list(enumerate(L))\n",
        "L[3][1]"
      ],
      "metadata": {
        "id": "PsDisXfkdAba",
        "colab": {
          "base_uri": "https://localhost:8080/"
        },
        "outputId": "7371076a-c589-4079-b0c2-8857ad10bd96"
      },
      "execution_count": null,
      "outputs": [
        {
          "output_type": "execute_result",
          "data": {
            "text/plain": [
              "3"
            ]
          },
          "metadata": {},
          "execution_count": 82
        }
      ]
    },
    {
      "cell_type": "code",
      "source": [
        "L=['a','b','a',['b','c'],'e']\n",
        "count=0\n",
        "for i in L:\n",
        "  print(i)\n",
        "  if (count==0):\n",
        "    print('count is 1')\n",
        "    count=count+1"
      ],
      "metadata": {
        "colab": {
          "base_uri": "https://localhost:8080/"
        },
        "id": "kAkHZ4Bw0rhJ",
        "outputId": "d6eab38f-c967-4386-e668-a99bf1674c41"
      },
      "execution_count": null,
      "outputs": [
        {
          "output_type": "stream",
          "name": "stdout",
          "text": [
            "a\n",
            "count is 1\n",
            "b\n",
            "a\n",
            "['b', 'c']\n",
            "e\n"
          ]
        }
      ]
    },
    {
      "cell_type": "code",
      "source": [
        "L=['a','b','a',['b','c'],'e']\n",
        "for i, element in enumerate(L):\n",
        "  print(i,element)"
      ],
      "metadata": {
        "colab": {
          "base_uri": "https://localhost:8080/"
        },
        "id": "DDlPaA281bjp",
        "outputId": "f8c0bf6f-b419-42c1-e71a-87d476a8059b"
      },
      "execution_count": null,
      "outputs": [
        {
          "output_type": "stream",
          "name": "stdout",
          "text": [
            "0 a\n",
            "1 b\n",
            "2 a\n",
            "3 ['b', 'c']\n",
            "4 e\n"
          ]
        }
      ]
    },
    {
      "cell_type": "code",
      "source": [
        "# 34Q Calculate the number of 9 from list\n",
        "L=[9,90,99,999,9999]  \n",
        "A=str(L)\n",
        "A.count(\"9\")"
      ],
      "metadata": {
        "id": "2KOicHwBdU36",
        "colab": {
          "base_uri": "https://localhost:8080/"
        },
        "outputId": "48022a55-523b-4b92-e3e3-3b2ce10c90a3"
      },
      "execution_count": null,
      "outputs": [
        {
          "output_type": "execute_result",
          "data": {
            "text/plain": [
              "11"
            ]
          },
          "metadata": {},
          "execution_count": 76
        }
      ]
    },
    {
      "cell_type": "code",
      "source": [
        "# 35Q What is the result of the code\n",
        "num =[10,9,8,7,6,5]\n",
        "num[0]=num[1]-5\n",
        "if 4 in num: print(num[3])\n",
        "else: print(num[4])"
      ],
      "metadata": {
        "id": "xjBggcufeaau"
      },
      "execution_count": null,
      "outputs": []
    },
    {
      "cell_type": "code",
      "source": [
        "# 36Q What is the result of this code\n",
        "num=[9,8,7,6,5]\n",
        "num.append(4)\n",
        "num.insert(2,11)\n",
        "print(len(num))\n",
        "num"
      ],
      "metadata": {
        "colab": {
          "base_uri": "https://localhost:8080/"
        },
        "id": "qtH9oZvPecav",
        "outputId": "1c9dc5a9-629a-4112-cdf1-0a3a5c5f5751"
      },
      "execution_count": null,
      "outputs": [
        {
          "output_type": "stream",
          "name": "stdout",
          "text": [
            "7\n"
          ]
        },
        {
          "output_type": "execute_result",
          "data": {
            "text/plain": [
              "[9, 8, 11, 7, 6, 5, 4]"
            ]
          },
          "metadata": {},
          "execution_count": 16
        }
      ]
    },
    {
      "cell_type": "code",
      "source": [
        "# 37Q What is the result of the code\n",
        "list=[1,1,2,3,5,8,13]\n",
        "print(list[list[4]])"
      ],
      "metadata": {
        "colab": {
          "base_uri": "https://localhost:8080/"
        },
        "id": "BcWOHSVifG0Q",
        "outputId": "a8681803-5459-49d6-f9d7-8e41cd02cb88"
      },
      "execution_count": null,
      "outputs": [
        {
          "output_type": "stream",
          "name": "stdout",
          "text": [
            "8\n"
          ]
        }
      ]
    },
    {
      "cell_type": "code",
      "source": [
        "# 38Q which one is False\n",
        "# int(144)==144  True\n",
        "# int('144')==144 True\n",
        "# int(144.0)==144 True"
      ],
      "metadata": {
        "colab": {
          "base_uri": "https://localhost:8080/"
        },
        "id": "KCDr6gtofpON",
        "outputId": "2931ec2a-0e42-4f5b-f418-15202d31dc55"
      },
      "execution_count": null,
      "outputs": [
        {
          "output_type": "execute_result",
          "data": {
            "text/plain": [
              "True"
            ]
          },
          "metadata": {},
          "execution_count": 22
        }
      ]
    },
    {
      "cell_type": "code",
      "source": [
        "# 39Q O/p of\n",
        "[1,2,3] + [4,5,6]"
      ],
      "metadata": {
        "colab": {
          "base_uri": "https://localhost:8080/"
        },
        "id": "ti0GNGvAgSDs",
        "outputId": "3f451763-1e38-4fa2-c51b-bc973cbd9160"
      },
      "execution_count": null,
      "outputs": [
        {
          "output_type": "execute_result",
          "data": {
            "text/plain": [
              "[1, 2, 3, 4, 5, 6]"
            ]
          },
          "metadata": {},
          "execution_count": 23
        }
      ]
    },
    {
      "cell_type": "code",
      "source": [
        "# 40Q What is a command to sort a list\n",
        "a=[8,6,3,7,4]\n",
        "a.sort()\n",
        "print(a)"
      ],
      "metadata": {
        "id": "e4X3EbHRglDy",
        "colab": {
          "base_uri": "https://localhost:8080/"
        },
        "outputId": "441ea435-e0ae-4945-db73-334d1729b804"
      },
      "execution_count": null,
      "outputs": [
        {
          "output_type": "stream",
          "name": "stdout",
          "text": [
            "[3, 4, 6, 7, 8]\n"
          ]
        }
      ]
    },
    {
      "cell_type": "code",
      "source": [
        "# 41Q Which one of the following statements is used when a statement is required syntactically but you do not want any command or code to execute\n",
        "# Ans: pass "
      ],
      "metadata": {
        "id": "EEdhFkMGgqNZ"
      },
      "execution_count": null,
      "outputs": []
    },
    {
      "cell_type": "code",
      "source": [
        "# 42Q O/P of code\n",
        "tup=('hi','python',2)\n",
        "print(type(tup)) #<class 'tuple'>\n",
        "print(tup) # ('hi', 'python', 2)\n",
        "print(tup[1:])#('python', 2)\n",
        "print(tup[0:1])#('hi',)\n",
        "print(tup+tup)#('hi', 'python', 2, 'hi', 'python', 2)\n",
        "print(tup*3)#('hi', 'python', 2, 'hi', 'python', 2, 'hi', 'python', 2)\n",
        "tup[2]='hi'\n"
      ],
      "metadata": {
        "id": "BxmxZnwYhOcE"
      },
      "execution_count": null,
      "outputs": []
    },
    {
      "cell_type": "code",
      "source": [
        "#43Q O/P\n",
        "for x in range(21,5,-3):\n",
        "  print(x)"
      ],
      "metadata": {
        "id": "u3uyD_p-ihV8"
      },
      "execution_count": null,
      "outputs": []
    },
    {
      "cell_type": "code",
      "source": [
        "# 44Q O/P\n",
        "for i in range(0,5):\n",
        "  print(i)"
      ],
      "metadata": {
        "id": "-Ecg8NmOi0Tp"
      },
      "execution_count": null,
      "outputs": []
    },
    {
      "cell_type": "code",
      "source": [
        "# 45Q WAP to check number is even or not\n",
        "a=int(input('Enter a number: '))\n",
        "if ((a%2)==0):\n",
        "  print('it is even')\n",
        "else :\n",
        "  print('it is not even but odd')"
      ],
      "metadata": {
        "id": "IipyEe6vi_-m"
      },
      "execution_count": null,
      "outputs": []
    },
    {
      "cell_type": "code",
      "source": [
        "# 46Q O/P using loops \n",
        "# *\n",
        "# **\n",
        "# ***\n",
        "# ****\n",
        "# *****\n",
        "for i in range(1,6):\n",
        "  print('*'*i)\n"
      ],
      "metadata": {
        "id": "lx5MX3Acjg9S",
        "colab": {
          "base_uri": "https://localhost:8080/"
        },
        "outputId": "d0055689-29b9-4ba0-d4cd-875eca2bc643"
      },
      "execution_count": null,
      "outputs": [
        {
          "output_type": "stream",
          "name": "stdout",
          "text": [
            "*\n",
            "**\n",
            "***\n",
            "****\n",
            "*****\n"
          ]
        }
      ]
    },
    {
      "cell_type": "code",
      "source": [
        "i=1\n",
        "while i in range(1,6):\n",
        "  print('*'*i)\n",
        "  i=i+1"
      ],
      "metadata": {
        "id": "ZeJ_K5k4qSQE"
      },
      "execution_count": null,
      "outputs": []
    },
    {
      "cell_type": "code",
      "source": [
        "# 47Q WAP to get python version which we are using\n",
        "import sys\n",
        "print(sys.version)"
      ],
      "metadata": {
        "id": "EpyyCZb-lLFc",
        "colab": {
          "base_uri": "https://localhost:8080/"
        },
        "outputId": "a9d2fb3f-5f5a-4434-ac58-90c890cbf7e0"
      },
      "execution_count": null,
      "outputs": [
        {
          "output_type": "stream",
          "name": "stdout",
          "text": [
            "3.7.14 (default, Sep  8 2022, 00:06:44) \n",
            "[GCC 7.5.0]\n"
          ]
        }
      ]
    },
    {
      "cell_type": "code",
      "source": [
        "#48Q WAP to find prime number in a given interval\n",
        "a=int(input('Enter upper number: '))\n",
        "b=int(input('Enter lower number: '))\n",
        "for i in range(a,b+1):\n",
        "  if i>1:\n",
        "     for j in range(2,i):\n",
        "       if((i%j)==0):\n",
        "         break\n",
        "     else:\n",
        "       print(i)    \n"
      ],
      "metadata": {
        "id": "HVdpNKealN8B"
      },
      "execution_count": null,
      "outputs": []
    },
    {
      "cell_type": "code",
      "source": [
        "# 49Q WAP for cube root number\n",
        "a=int(input('Enter a number to find cuberoot :'))\n",
        "print(a**(1/3))"
      ],
      "metadata": {
        "id": "4g4AQU4rlaRf"
      },
      "execution_count": null,
      "outputs": []
    },
    {
      "cell_type": "code",
      "source": [
        "# 50Q Write a Python program that will accept the base and height of a triangle and compute the area?\n",
        "base=float(input('Enter base of the triangle in cm: '))\n",
        "height=float(input('Enter height of the triangle in cm: '))\n",
        "Area=(1/2)*base*height\n",
        "print(f'The Area of triangle is: {Area} cm**2')"
      ],
      "metadata": {
        "id": "LxjYyUzjqAZd"
      },
      "execution_count": null,
      "outputs": []
    },
    {
      "cell_type": "code",
      "source": [
        "\n",
        "# 51. Write a Python program to solve (x + y) * (x + y)?\n",
        "x=int(input('Enter X value: '))\n",
        "y=int(input('Enter Y value: '))\n",
        "z=(x+y)*(x+y)\n",
        "print(f'The value of (x+y)**2 is: {z}')"
      ],
      "metadata": {
        "id": "9wvaPLNvIoxb"
      },
      "execution_count": null,
      "outputs": []
    },
    {
      "cell_type": "code",
      "source": [
        "# 52. Write a Python program to calculate the sum of three given numbers, if the values are equal then\n",
        "# return thrice of their sum?\n",
        "X=int(input('Enter X value: '))\n",
        "Y=int(input('Enter Y value: '))\n",
        "Z=int(input('Enter Z value: '))\n",
        "sum=(X+Y+Z)*3\n",
        "if ((X==Y) and (Y==Z)):\n",
        "  print('All three numbers are equal')\n",
        "  print(f'The thrice of there sum is: {sum}')\n",
        "elif((X!=Y) or (Y!=Z)):\n",
        "  SUM=(X+Y+Z)\n",
        "  print(f'The sum of three numbers is: {SUM}')\n",
        "\n"
      ],
      "metadata": {
        "id": "dJ8cwU54ItsZ"
      },
      "execution_count": null,
      "outputs": []
    },
    {
      "cell_type": "code",
      "source": [
        "# 53. Write a Python program to compute the distance between the points (x1, y1) and (x2, y2)?\n",
        "x1=int(input('Enter a point x1: '))\n",
        "y1=int(input('Enter a point y1: '))\n",
        "x2=int(input('Enter a point x2: '))\n",
        "y2=int(input('Enter a point y2: '))\n",
        "a=((x2-x1)**2)\n",
        "b=((y2-y1)**2)\n",
        "d=(a+b)**(1/2)\n",
        "print(f'Distance between two point is: {d}')\n"
      ],
      "metadata": {
        "id": "AilTjSwhI8xL"
      },
      "execution_count": null,
      "outputs": []
    },
    {
      "cell_type": "code",
      "source": [
        "# 54. Write a Python program to calculate body mass index?\n",
        "a=input('Enter your Name: ')\n",
        "m=float(input('Enter your weight in kg: '))\n",
        "h=float(input('Enter your height in meters: '))\n",
        "b=m/(h**2)\n",
        "if(b<25):\n",
        "  print(f'{a} is underweight by {b} BMI')\n",
        "else:\n",
        "  print(f'{a} is overweight by {b} BMI')\n"
      ],
      "metadata": {
        "id": "cjdMRPGvJBXr"
      },
      "execution_count": null,
      "outputs": []
    },
    {
      "cell_type": "code",
      "source": [
        "# 55. Write a Python program to filter the positive numbers from a list?\n",
        "b=[-1,-6, 5, 4, 6]\n",
        "print(b)\n",
        "for i in range(0,len(b)): \n",
        "  if (b[i]>=0):\n",
        "   print(b[i],end='  ')"
      ],
      "metadata": {
        "id": "zRWzumwNJHXV"
      },
      "execution_count": null,
      "outputs": []
    },
    {
      "cell_type": "code",
      "source": [
        "# 56. Write a Python program to test if a variable is a list or tuple or a set?\n",
        "A=[1,5,8,9,3]\n",
        "B=(5,6,9,4)\n",
        "C={7,8,9,3,2}\n",
        "print(type(A))\n",
        "print(type(B))\n",
        "print(type(C))"
      ],
      "metadata": {
        "id": "RdM9mFPkJJ1i",
        "colab": {
          "base_uri": "https://localhost:8080/"
        },
        "outputId": "1d5f75ee-a7e9-44c8-9084-27f381b15702"
      },
      "execution_count": null,
      "outputs": [
        {
          "output_type": "stream",
          "name": "stdout",
          "text": [
            "<class 'list'>\n",
            "<class 'tuple'>\n",
            "<class 'set'>\n"
          ]
        }
      ]
    },
    {
      "cell_type": "code",
      "source": [
        "# 57. Write a Python program to check if a number is positive, negative or zero?\n",
        "z=int(input('Enter an integer: '))\n",
        "if(z==0):\n",
        "  print('It is Zero')\n",
        "elif(z<0):\n",
        "  print('It is negative number')\n",
        "else:\n",
        "  print('It is positive number')"
      ],
      "metadata": {
        "id": "qIvibhjUJZkg"
      },
      "execution_count": null,
      "outputs": []
    },
    {
      "cell_type": "code",
      "source": [
        "# 58. Write a Python program to test whether a passed letter is a vowel or not?\n",
        "v=['a','e','i','o','u','A','E','I','O','U']\n",
        "l=input('Enter a letter: ')\n",
        "for i in v:\n",
        "  if (i==l):\n",
        "     print('it is vowel')\n",
        "     break\n",
        "else: \n",
        "  print('it is not a vowel')\n",
        " "
      ],
      "metadata": {
        "id": "MjJ6ncIHJhB_"
      },
      "execution_count": null,
      "outputs": []
    },
    {
      "cell_type": "code",
      "source": [
        "# 59. Write a program to display the multiplication table of a given number?\n",
        "M=int(input('Enter a table number: '))\n",
        "for i in range (1,11):\n",
        "  print(M, 'X', i ,'=', M*i)\n",
        "\n"
      ],
      "metadata": {
        "id": "RYymHW3VJurt"
      },
      "execution_count": null,
      "outputs": []
    },
    {
      "cell_type": "code",
      "source": [
        "# 60. Write a program to add two matrices using loops?\n",
        "r=int(input('Enter number of rows: '))\n",
        "c=int(input('Enter number of columns: '))\n",
        "print('Enter the matrix1 elements: ')\n",
        "matrix1=[[int(input()) for i in range(c)] for j in range (r)]\n",
        "print('matrix1: ')\n",
        "for i in range(r):\n",
        "  for j in range(c):\n",
        "    print(format(matrix1[i][j],\"<3\"),end=\"\")\n",
        "  print()\n",
        "print('Enter the matrix2 elements: ')\n",
        "matrix2=[[int(input()) for i in range(c)] for j in range (r)]\n",
        "print('matrix2: ')\n",
        "for i in range(r):\n",
        "  for j in range(c):\n",
        "    print(format(matrix2[i][j],\"<3\"),end=\"\")\n",
        "  print()\n",
        "Result = [[0 for i in range(c)] for j in range (r)]\n",
        "for i in range(r):\n",
        "  for j in range(c):\n",
        "   Result[i][j] = matrix1[i][j]+matrix2[i][j]\n",
        "print('Result is: ')\n",
        "for i in range(r):\n",
        "  for j in range(c):\n",
        "    print(format(Result[i][j],'<3'),end='')\n",
        "  print()  "
      ],
      "metadata": {
        "id": "Im2--DENJwqt",
        "colab": {
          "base_uri": "https://localhost:8080/"
        },
        "outputId": "099e1603-889b-4018-ca4b-255cd55a0093"
      },
      "execution_count": null,
      "outputs": [
        {
          "output_type": "stream",
          "name": "stdout",
          "text": [
            "Enter number of rows: 2\n",
            "Enter number of columns: 2\n",
            "Enter the matrix1 elements: \n",
            "1\n",
            "2\n",
            "3\n",
            "4\n",
            "matrix1: \n",
            "1  2  \n",
            "3  4  \n",
            "Enter the matrix2 elements: \n",
            "5\n",
            "6\n",
            "7\n",
            "8\n",
            "matrix2: \n",
            "5  6  \n",
            "7  8  \n",
            "Result is: \n",
            "6  8  \n",
            "10 12 \n"
          ]
        }
      ]
    }
  ]
}