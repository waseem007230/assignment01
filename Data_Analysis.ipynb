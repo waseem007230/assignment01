{
  "nbformat": 4,
  "nbformat_minor": 0,
  "metadata": {
    "colab": {
      "provenance": [],
      "collapsed_sections": [],
      "authorship_tag": "ABX9TyPYcR7w8OKd2NDKj2NTlwc2",
      "include_colab_link": true
    },
    "kernelspec": {
      "name": "python3",
      "display_name": "Python 3"
    },
    "language_info": {
      "name": "python"
    }
  },
  "cells": [
    {
      "cell_type": "markdown",
      "metadata": {
        "id": "view-in-github",
        "colab_type": "text"
      },
      "source": [
        "<a href=\"https://colab.research.google.com/github/waseem007230/assignment01/blob/master/Data_Analysis.ipynb\" target=\"_parent\"><img src=\"https://colab.research.google.com/assets/colab-badge.svg\" alt=\"Open In Colab\"/></a>"
      ]
    },
    {
      "cell_type": "code",
      "execution_count": 2,
      "metadata": {
        "id": "qtnKBE1in68x",
        "colab": {
          "base_uri": "https://localhost:8080/"
        },
        "outputId": "cbaf80ef-d324-4da6-f7cb-f7ebdf0ca873"
      },
      "outputs": [
        {
          "output_type": "stream",
          "name": "stdout",
          "text": [
            "{3}\n"
          ]
        }
      ],
      "source": [
        "a = {1, 2, 3}\n",
        "b = {0, 3, 4, 5}\n",
        "print(a & b)\n"
      ]
    },
    {
      "cell_type": "code",
      "source": [
        "'''you are analyzing sales data from a ticket office.\n",
        "The ticket for an adult is $20, while the ticket for a child under 18 is $5.\n",
        "The data you are given is in a dictionary format, where the keys are the sold ticket numbers, and the values are the customer ages.\n",
        "For example, \"123-08\": 24 means that the ticket was bought a 24 year old.\n",
        "Your goal is to calculate how much more money the office would make if it would change the ticket discount age to the given input.\n",
        "So, your program needs to take an integer as input and output the percentage of revenue growth, if the discount was given to people under that age.\n",
        "\n",
        "For example, if the office made $15000 with the original discount age, and would make $18000 with 14 as the discount age, then the growth would be ((18000-15000)/15000)*100 = 20%\n",
        "\n",
        "So, for the input 14, your program should output 20. The output should be an integer (use int() to convert the result).'''\n",
        "data = {\n",
        "    \"100-90\": 25, \"42-01\": 48, \"55-09\": 12, \"128-64\": 71, \"002-22\": 18, \"321-54\": 19, \"097-32\": 33, \"065-135\": 64, \"99-043\": 80, \"111-99\": 11, \"123-019\": 5, \"109-890\": 72, \"132-123\": 27, \"32-908\": 27, \"008-09\": 25, \"055-967\": 35, \"897-99\": 44, \"890-98\": 56, \"344-32\": 65, \"43-955\": 59, \"001-233\": 9, \"089-111\": 15, \"090-090\": 17, \"56-777\": 23, \"44-909\": 27, \"13-111\": 21, \"87-432\": 15, \"87-433\": 14, \"87-434\": 23, \"87-435\": 11, \"87-436\": 12, \"87-437\": 16, \"94-121\": 15, \"94-122\": 35, \"80-089\": 10, \"87-456\": 8, \"87-430\": 40\n",
        "}\n",
        "age = int(input())\n",
        "\n",
        "total_first=0\n",
        "total_second=0\n",
        "\n",
        "for value in data.values():\n",
        "    if value<18:    \n",
        "        total_first+=5\n",
        "    if value>=18:\n",
        "        total_first+=20\n",
        "        \n",
        "for value in data.values():\n",
        "    if value<age:\n",
        "        total_second+=5\n",
        "    if value>=age:\n",
        "        total_second+=20\n",
        "        \n",
        "        \n",
        "x=int(((total_second-total_first)/total_first)*100) \n",
        "print(x)\n"
      ],
      "metadata": {
        "id": "hlIHDN_ZZ6RI"
      },
      "execution_count": null,
      "outputs": []
    },
    {
      "cell_type": "markdown",
      "source": [
        "##**numpy Library**\n",
        "* numpy : stands for **Numerical Python**\n",
        "* Like list in Python, array is a datastructure for numpy\n"
      ],
      "metadata": {
        "id": "daf6XG_DdQun"
      }
    },
    {
      "cell_type": "markdown",
      "source": [
        "* Python List is a collection of heterogenous datatypes items. It takes huge amount of time and memory for numerical computations of large data.\n",
        "* Numpy array is a collection of homogenous datatypes items. It takes  very little amount of memory and time in comparision with list in terms of numerical computation of large data."
      ],
      "metadata": {
        "id": "zDPYYxBxdVW7"
      }
    },
    {
      "cell_type": "code",
      "source": [
        "import numpy as np"
      ],
      "metadata": {
        "id": "7U4p8mLpdRiG"
      },
      "execution_count": 13,
      "outputs": []
    },
    {
      "cell_type": "code",
      "source": [
        "# a = []\n",
        "np.array([1,2,3])"
      ],
      "metadata": {
        "id": "P7JePNJMdWfa"
      },
      "execution_count": null,
      "outputs": []
    },
    {
      "cell_type": "code",
      "source": [
        "a  = np.array([1,2,3])\n",
        "type(a)"
      ],
      "metadata": {
        "id": "C-IitjdneGu0"
      },
      "execution_count": null,
      "outputs": []
    },
    {
      "cell_type": "code",
      "source": [
        "a  = np.array([1,2.3,'3',[1,2],(3,4),{1:2}])\n",
        "print(a,type(a))"
      ],
      "metadata": {
        "id": "No3hho2geKzP"
      },
      "execution_count": null,
      "outputs": []
    },
    {
      "cell_type": "code",
      "source": [
        "a = [1,2,3,4,5]\n",
        "a = np.array(a)\n",
        "a"
      ],
      "metadata": {
        "id": "paaAZfFueN6P"
      },
      "execution_count": null,
      "outputs": []
    },
    {
      "cell_type": "code",
      "source": [
        "# np.arange(5)\n",
        "# np.arange(5,10)\n",
        "# np.arange(1,10,2)"
      ],
      "metadata": {
        "id": "Jt0bPhX4eQ0p"
      },
      "execution_count": null,
      "outputs": []
    },
    {
      "cell_type": "markdown",
      "source": [
        "The number of dimensions and items in an array is defined by its shape.\n",
        "The dimensions are also called as axes.\n",
        "ndarray : n-Dimensional array\n",
        "0D - Scalar\n",
        "1D Array - Vector\n",
        "2D Array - Matrix\n",
        "3D or more (Multi Dimension) - Tensor"
      ],
      "metadata": {
        "id": "gurPjDMYPGil"
      }
    },
    {
      "cell_type": "code",
      "source": [
        "a = [1,2]\n",
        "b = [3,4]\n",
        "c = np.array([a,b])\n",
        "c\n",
        "# type(c)"
      ],
      "metadata": {
        "id": "akhnI-hyPGOK"
      },
      "execution_count": 7,
      "outputs": []
    },
    {
      "cell_type": "code",
      "source": [
        "c.size"
      ],
      "metadata": {
        "colab": {
          "base_uri": "https://localhost:8080/"
        },
        "id": "h_rZkbeMRbJi",
        "outputId": "39641c30-a90d-4286-9cf2-4c10539783e7"
      },
      "execution_count": 11,
      "outputs": [
        {
          "output_type": "execute_result",
          "data": {
            "text/plain": [
              "numpy.ndarray"
            ]
          },
          "metadata": {},
          "execution_count": 11
        }
      ]
    },
    {
      "cell_type": "code",
      "source": [
        "a = [1,2,3]\n",
        "b = [3,4,5]\n",
        "c = [5,6,7]\n",
        "d = np.array([a,b,c])\n",
        "d\n",
        "# type(c)"
      ],
      "metadata": {
        "colab": {
          "base_uri": "https://localhost:8080/"
        },
        "id": "lBiv83U0RfqR",
        "outputId": "f4514df6-3227-4a05-b6b0-e2da9281b8c3"
      },
      "execution_count": 10,
      "outputs": [
        {
          "output_type": "execute_result",
          "data": {
            "text/plain": [
              "array({1, 2, 3}, dtype=object)"
            ]
          },
          "metadata": {},
          "execution_count": 10
        }
      ]
    },
    {
      "cell_type": "code",
      "source": [
        "# sie gives total number of elements in the arrays\n",
        "d.size"
      ],
      "metadata": {
        "id": "P3X_9jZLejaR"
      },
      "execution_count": null,
      "outputs": []
    },
    {
      "cell_type": "code",
      "source": [
        "d.shape"
      ],
      "metadata": {
        "id": "uocDq0Wie3Y0"
      },
      "execution_count": null,
      "outputs": []
    },
    {
      "cell_type": "code",
      "source": [
        "d.ndim"
      ],
      "metadata": {
        "id": "JCOMs6kyfN8L"
      },
      "execution_count": null,
      "outputs": []
    },
    {
      "cell_type": "code",
      "source": [
        "print(d)\n",
        "# d.reshape(1,9)\n",
        "# d.reshape(9,1)"
      ],
      "metadata": {
        "id": "9jDeEIxYfQwg"
      },
      "execution_count": null,
      "outputs": []
    },
    {
      "cell_type": "code",
      "source": [
        "# Alternative reshaping\n",
        "d.shape = (9,1)"
      ],
      "metadata": {
        "id": "DZ441YzjfVUz"
      },
      "execution_count": null,
      "outputs": []
    },
    {
      "cell_type": "code",
      "source": [
        "Zero = np.array(10) # Scalar\n",
        "one = np.array([1,2,3,4,5]) # Vector\n",
        "two = np.array([[1,2],[3,4]]) # or np.array([arr,arr]) # Matrix\n",
        "three = np.array([[[1,2],[3,4],[5,6]]]) # 3D Tensor\n",
        "four = np.array([[[[1,2],[3,4],[5,6]]]]) # 4D Tensor"
      ],
      "metadata": {
        "id": "kqd6DQ4VfYq9"
      },
      "execution_count": null,
      "outputs": []
    },
    {
      "cell_type": "code",
      "source": [
        "# Zero.ndim\n",
        "# one.ndim\n",
        "four.ndim"
      ],
      "metadata": {
        "id": "j8g2Hu4Efbfr"
      },
      "execution_count": null,
      "outputs": []
    },
    {
      "cell_type": "code",
      "source": [
        "# zero = np.array(1)\n",
        "# zero.ndim\n",
        "\n",
        "# one = np.ones(1)\n",
        "# one = np.ones(2)\n",
        "one = np.ones(3)\n",
        "one"
      ],
      "metadata": {
        "id": "ZtpYDoE6feTI"
      },
      "execution_count": null,
      "outputs": []
    },
    {
      "cell_type": "code",
      "source": [
        "# np.array([np.ones(3),np.ones(3),np.ones(3)])\n",
        "np.ones((3,3))"
      ],
      "metadata": {
        "id": "0yKC_irkfh8h"
      },
      "execution_count": null,
      "outputs": []
    },
    {
      "cell_type": "code",
      "source": [
        "# np.zeros(1)\n",
        "np.zeros((2,5))"
      ],
      "metadata": {
        "id": "2T7R7t0Ofkna"
      },
      "execution_count": null,
      "outputs": []
    },
    {
      "cell_type": "code",
      "source": [
        "# np.zeros((0,2,5))\n",
        "# np.zeros((1,2,5))\n",
        "# np.zeros((2,2,5))\n",
        "np.zeros((3,2,5))\n",
        "# np.zeros((4,2,5))\n"
      ],
      "metadata": {
        "id": "A-f_qkevfnm1"
      },
      "execution_count": null,
      "outputs": []
    },
    {
      "cell_type": "code",
      "source": [
        "# np.full(number of items, value)\n",
        "np.full(1,2)\n",
        "np.full(2,2)\n",
        "np.full(3,2)"
      ],
      "metadata": {
        "id": "HjUMFZ_Gfp-6"
      },
      "execution_count": null,
      "outputs": []
    },
    {
      "cell_type": "markdown",
      "source": [
        "SLICING"
      ],
      "metadata": {
        "id": "b6a1h5ulfvMY"
      }
    },
    {
      "cell_type": "code",
      "source": [
        "A = np.array([1,2,3,4,5])"
      ],
      "metadata": {
        "id": "_cQghTjXfvwN"
      },
      "execution_count": 15,
      "outputs": []
    },
    {
      "cell_type": "code",
      "source": [
        "A[:5:2]"
      ],
      "metadata": {
        "colab": {
          "base_uri": "https://localhost:8080/"
        },
        "id": "lR-7yC37fy_x",
        "outputId": "d6c3f443-f886-4f2f-9294-32f6e81383cf"
      },
      "execution_count": 20,
      "outputs": [
        {
          "output_type": "execute_result",
          "data": {
            "text/plain": [
              "array([1, 3, 5])"
            ]
          },
          "metadata": {},
          "execution_count": 20
        }
      ]
    },
    {
      "cell_type": "code",
      "source": [
        "a = [1,2,3]\n",
        "b = [3,4,5]\n",
        "c = [5,6,7]\n",
        "d = np.array([a,b,c])\n",
        "# array_name[row_start_val:row_end_val, col_start_val:col_end_val]\n",
        "# print(d)\n",
        "d[0:2,1:]"
      ],
      "metadata": {
        "colab": {
          "base_uri": "https://localhost:8080/"
        },
        "id": "xwY7ojlQh3Cs",
        "outputId": "f17b750d-55ee-47f5-da5d-181ced4e6eae"
      },
      "execution_count": 32,
      "outputs": [
        {
          "output_type": "execute_result",
          "data": {
            "text/plain": [
              "array([[2, 3],\n",
              "       [4, 5]])"
            ]
          },
          "metadata": {},
          "execution_count": 32
        }
      ]
    },
    {
      "cell_type": "code",
      "source": [
        "d[1:3,0:2]"
      ],
      "metadata": {
        "colab": {
          "base_uri": "https://localhost:8080/"
        },
        "id": "bZILBi1ikzFG",
        "outputId": "9b5738da-0506-40b1-f529-b399f53d18ee"
      },
      "execution_count": 33,
      "outputs": [
        {
          "output_type": "execute_result",
          "data": {
            "text/plain": [
              "array([[3, 4],\n",
              "       [5, 6]])"
            ]
          },
          "metadata": {},
          "execution_count": 33
        }
      ]
    },
    {
      "cell_type": "code",
      "source": [
        "a = [1,2,3]\n",
        "b = [3,4,5]\n",
        "c = [5,6,7]\n",
        "d[1:3,1:2]"
      ],
      "metadata": {
        "colab": {
          "base_uri": "https://localhost:8080/"
        },
        "id": "xfCcOtPxlbep",
        "outputId": "282ac24d-b3c6-4b05-c109-213168c4640a"
      },
      "execution_count": 42,
      "outputs": [
        {
          "output_type": "execute_result",
          "data": {
            "text/plain": [
              "array([[4],\n",
              "       [6]])"
            ]
          },
          "metadata": {},
          "execution_count": 42
        }
      ]
    },
    {
      "cell_type": "code",
      "source": [
        "c= np.array([[1, 2, 3, 4, 5],\n",
        "       [6,7,8,9,10],\n",
        "       [11, 12, 13, 14, 15]])\n",
        "c\n"
      ],
      "metadata": {
        "colab": {
          "base_uri": "https://localhost:8080/"
        },
        "id": "V30glaGnnbpD",
        "outputId": "2d494fea-9813-401b-80ba-7037763dfd7f"
      },
      "execution_count": 44,
      "outputs": [
        {
          "output_type": "execute_result",
          "data": {
            "text/plain": [
              "array([[ 1,  2,  3,  4,  5],\n",
              "       [ 6,  7,  8,  9, 10],\n",
              "       [11, 12, 13, 14, 15]])"
            ]
          },
          "metadata": {},
          "execution_count": 44
        }
      ]
    },
    {
      "cell_type": "code",
      "source": [
        "# c[1:3,1:4]\n",
        "# c[2:,2:4]\n",
        "# c[0:2,0::3]\n",
        "# c[1:3,1::3]\n",
        "# c[0:2,1:4:2]\n",
        "# c[1:3,2::2]\n",
        "c[2:,0::2]\n"
      ],
      "metadata": {
        "colab": {
          "base_uri": "https://localhost:8080/"
        },
        "id": "vfRX7o0_nmf9",
        "outputId": "95b21530-7447-4fca-ee07-e7aaebb9545e"
      },
      "execution_count": 67,
      "outputs": [
        {
          "output_type": "execute_result",
          "data": {
            "text/plain": [
              "array([[11, 13, 15]])"
            ]
          },
          "metadata": {},
          "execution_count": 67
        }
      ]
    },
    {
      "cell_type": "code",
      "source": [
        "c[2:,2:4]\n",
        "c[0:2,0::3]\n",
        "c[1:3,1::3]\n",
        "c[0:3,1::2]"
      ],
      "metadata": {
        "colab": {
          "base_uri": "https://localhost:8080/"
        },
        "id": "ZAVjKpImnzvI",
        "outputId": "29e25f85-df6d-4163-f4b4-25b961bb03ae"
      },
      "execution_count": 57,
      "outputs": [
        {
          "output_type": "execute_result",
          "data": {
            "text/plain": [
              "array([[ 2,  4],\n",
              "       [ 7,  9],\n",
              "       [12, 14]])"
            ]
          },
          "metadata": {},
          "execution_count": 57
        }
      ]
    },
    {
      "cell_type": "code",
      "source": [
        "# np.linspace(start,end,equally_spacing_value)\n",
        "np.linspace(1,30,5)"
      ],
      "metadata": {
        "colab": {
          "base_uri": "https://localhost:8080/"
        },
        "id": "a-9wdqVxwtAb",
        "outputId": "6e38938a-c453-4def-aa56-61f81ad841d2"
      },
      "execution_count": 74,
      "outputs": [
        {
          "output_type": "execute_result",
          "data": {
            "text/plain": [
              "array([ 1.  ,  8.25, 15.5 , 22.75, 30.  ])"
            ]
          },
          "metadata": {},
          "execution_count": 74
        }
      ]
    },
    {
      "cell_type": "code",
      "source": [
        "a = np.arange(10)\n",
        "a  = np.append(a,10)\n",
        "a"
      ],
      "metadata": {
        "id": "od9kIE_OxPyd"
      },
      "execution_count": null,
      "outputs": []
    },
    {
      "cell_type": "code",
      "source": [
        "a = np.arange(10)\n",
        "a  = np.append(a,[10,11,12])\n",
        "a"
      ],
      "metadata": {
        "colab": {
          "base_uri": "https://localhost:8080/"
        },
        "id": "JogONcSRyXpG",
        "outputId": "f87144ea-e973-4283-8837-c67086554ed5"
      },
      "execution_count": 75,
      "outputs": [
        {
          "output_type": "execute_result",
          "data": {
            "text/plain": [
              "array([ 0,  1,  2,  3,  4,  5,  6,  7,  8,  9, 10, 11, 12])"
            ]
          },
          "metadata": {},
          "execution_count": 75
        }
      ]
    },
    {
      "cell_type": "code",
      "source": [
        "a = np.arange(10)\n",
        "a  = np.delete(a,6)\n",
        "a"
      ],
      "metadata": {
        "colab": {
          "base_uri": "https://localhost:8080/"
        },
        "id": "Fiss0iICyjMB",
        "outputId": "bef315ea-5440-4524-feda-d8434f4d04af"
      },
      "execution_count": 77,
      "outputs": [
        {
          "output_type": "execute_result",
          "data": {
            "text/plain": [
              "array([0, 1, 2, 3, 4, 5, 7, 8, 9])"
            ]
          },
          "metadata": {},
          "execution_count": 77
        }
      ]
    },
    {
      "cell_type": "code",
      "source": [
        "a = np.arange(10)\n",
        "a  = np.delete(a,[1,3,5,7])\n",
        "a"
      ],
      "metadata": {
        "colab": {
          "base_uri": "https://localhost:8080/"
        },
        "id": "Azyyf8i3ykAn",
        "outputId": "189df4e0-dbe3-4a57-bafb-80a6fb235b2e"
      },
      "execution_count": 78,
      "outputs": [
        {
          "output_type": "execute_result",
          "data": {
            "text/plain": [
              "array([0, 2, 4, 6, 8, 9])"
            ]
          },
          "metadata": {},
          "execution_count": 78
        }
      ]
    },
    {
      "cell_type": "code",
      "source": [
        "a = np.array([7,4,9,6,8,2])\n",
        "np.sort(a)"
      ],
      "metadata": {
        "colab": {
          "base_uri": "https://localhost:8080/"
        },
        "id": "1kPyPJBeym7f",
        "outputId": "32ba521d-8c3a-434a-e18e-c6f06b376bb4"
      },
      "execution_count": 76,
      "outputs": [
        {
          "output_type": "execute_result",
          "data": {
            "text/plain": [
              "array([2, 4, 6, 7, 8, 9])"
            ]
          },
          "metadata": {},
          "execution_count": 76
        }
      ]
    },
    {
      "cell_type": "code",
      "source": [
        "a = np.array([7,4,9,6,8,2])\n",
        "np.sqrt(a)"
      ],
      "metadata": {
        "colab": {
          "base_uri": "https://localhost:8080/"
        },
        "id": "HkU5KL1Oy6AW",
        "outputId": "c3ace1b6-0122-4542-d84b-ca1eb0930092"
      },
      "execution_count": 79,
      "outputs": [
        {
          "output_type": "execute_result",
          "data": {
            "text/plain": [
              "array([2.64575131, 2.        , 3.        , 2.44948974, 2.82842712,\n",
              "       1.41421356])"
            ]
          },
          "metadata": {},
          "execution_count": 79
        }
      ]
    },
    {
      "cell_type": "code",
      "source": [
        "a = np.array([7,4,9,6,8,2])\n",
        "np.exp(a)"
      ],
      "metadata": {
        "colab": {
          "base_uri": "https://localhost:8080/"
        },
        "id": "LQzTdrb1zR73",
        "outputId": "abf6273e-933f-4acb-f9c3-9f6ed83c17fe"
      },
      "execution_count": 80,
      "outputs": [
        {
          "output_type": "execute_result",
          "data": {
            "text/plain": [
              "array([1.09663316e+03, 5.45981500e+01, 8.10308393e+03, 4.03428793e+02,\n",
              "       2.98095799e+03, 7.38905610e+00])"
            ]
          },
          "metadata": {},
          "execution_count": 80
        }
      ]
    },
    {
      "cell_type": "code",
      "source": [
        "# np.random.rand(5)\n",
        "np.random.randint(1,10,2)"
      ],
      "metadata": {
        "colab": {
          "base_uri": "https://localhost:8080/"
        },
        "id": "95-GLQFqzoPT",
        "outputId": "0268f1cb-4d87-4edd-91c2-dcad2584ea65"
      },
      "execution_count": 84,
      "outputs": [
        {
          "output_type": "execute_result",
          "data": {
            "text/plain": [
              "array([6, 3])"
            ]
          },
          "metadata": {},
          "execution_count": 84
        }
      ]
    },
    {
      "cell_type": "code",
      "source": [
        "np.random.randn(2)"
      ],
      "metadata": {
        "colab": {
          "base_uri": "https://localhost:8080/"
        },
        "id": "hY5Phdio0l1g",
        "outputId": "7ec77d5a-5f13-4256-c3b0-3e8b33858e6a"
      },
      "execution_count": 85,
      "outputs": [
        {
          "output_type": "execute_result",
          "data": {
            "text/plain": [
              "array([-0.09242904,  1.11156212])"
            ]
          },
          "metadata": {},
          "execution_count": 85
        }
      ]
    },
    {
      "cell_type": "markdown",
      "source": [
        "Airthmetic with arrays"
      ],
      "metadata": {
        "id": "vmwrbJKT0-Bg"
      }
    },
    {
      "cell_type": "code",
      "source": [
        "a=np.array([1,2,3])\n",
        "b=np.array([4,5,6])\n",
        "a+b"
      ],
      "metadata": {
        "colab": {
          "base_uri": "https://localhost:8080/"
        },
        "id": "8RktOfxO1BnF",
        "outputId": "986281c4-9e2a-4136-9ff4-a4a1f390531d"
      },
      "execution_count": 86,
      "outputs": [
        {
          "output_type": "execute_result",
          "data": {
            "text/plain": [
              "array([5, 7, 9])"
            ]
          },
          "metadata": {},
          "execution_count": 86
        }
      ]
    },
    {
      "cell_type": "code",
      "source": [
        "a=np.array([1,2,3])\n",
        "b=np.array([6,5,4])\n",
        "a-b"
      ],
      "metadata": {
        "colab": {
          "base_uri": "https://localhost:8080/"
        },
        "id": "ownpqwCc1RyZ",
        "outputId": "9f645c26-36dd-4ffa-cc08-b376d3a98740"
      },
      "execution_count": 88,
      "outputs": [
        {
          "output_type": "execute_result",
          "data": {
            "text/plain": [
              "array([-5, -3, -1])"
            ]
          },
          "metadata": {},
          "execution_count": 88
        }
      ]
    },
    {
      "cell_type": "code",
      "source": [
        "a=np.array([1,2,3])\n",
        "b=np.array([6,5,4])\n",
        "a*b"
      ],
      "metadata": {
        "colab": {
          "base_uri": "https://localhost:8080/"
        },
        "id": "4BBpu-cU1Yho",
        "outputId": "e97ed04c-fd4f-4483-f410-f41193422a78"
      },
      "execution_count": 89,
      "outputs": [
        {
          "output_type": "execute_result",
          "data": {
            "text/plain": [
              "array([ 6, 10, 12])"
            ]
          },
          "metadata": {},
          "execution_count": 89
        }
      ]
    },
    {
      "cell_type": "code",
      "source": [
        "b=np.array([1,2,3])\n",
        "a=np.array([6,5,4])\n",
        "a//b"
      ],
      "metadata": {
        "colab": {
          "base_uri": "https://localhost:8080/"
        },
        "id": "oo1WWGPP1buD",
        "outputId": "4ce69362-fcdb-40a2-cb0d-e9f6b59f3a59"
      },
      "execution_count": 93,
      "outputs": [
        {
          "output_type": "execute_result",
          "data": {
            "text/plain": [
              "array([6, 2, 1])"
            ]
          },
          "metadata": {},
          "execution_count": 93
        }
      ]
    },
    {
      "cell_type": "code",
      "source": [
        "# it will add,sub,mul,div 5 to each elements in the array it is a scalar (add mul sub div) \n",
        "a=np.array([6,5,4])\n",
        "a*5"
      ],
      "metadata": {
        "colab": {
          "base_uri": "https://localhost:8080/"
        },
        "id": "eWwPrEYK1-_U",
        "outputId": "b53a6a72-ef2c-4706-cda4-7b1882d88814"
      },
      "execution_count": 95,
      "outputs": [
        {
          "output_type": "execute_result",
          "data": {
            "text/plain": [
              "array([30, 25, 20])"
            ]
          },
          "metadata": {},
          "execution_count": 95
        }
      ]
    },
    {
      "cell_type": "code",
      "source": [
        "a = np.array([1,2,3])\n",
        "# a+4 #scalar addition\n",
        "# a-4 #scalar subtraction\n",
        "a*2 # scalar multiplication\n",
        "a/2 # scalar division"
      ],
      "metadata": {
        "id": "Dt_HwnbY2gMS"
      },
      "execution_count": null,
      "outputs": []
    },
    {
      "cell_type": "code",
      "source": [
        "a = np.array([[1,2,3],\n",
        "              [4,5,6]])\n",
        "\n",
        "b=np.array([7,8])\n",
        "a+b"
      ],
      "metadata": {
        "id": "zs-x6Itl2oUJ"
      },
      "execution_count": null,
      "outputs": []
    },
    {
      "cell_type": "code",
      "source": [
        "a=np.array([[1,2,3],\n",
        "            [4,5,6]])\n",
        "b=np.array([0,2,6])\n",
        "a<b"
      ],
      "metadata": {
        "colab": {
          "base_uri": "https://localhost:8080/"
        },
        "id": "9-RU-qG040DA",
        "outputId": "c0597a76-b8ca-45c7-884b-1f65cab3d765"
      },
      "execution_count": 119,
      "outputs": [
        {
          "output_type": "execute_result",
          "data": {
            "text/plain": [
              "array([[False, False,  True],\n",
              "       [False, False, False]])"
            ]
          },
          "metadata": {},
          "execution_count": 119
        }
      ]
    },
    {
      "cell_type": "markdown",
      "source": [
        "Statistical methods"
      ],
      "metadata": {
        "id": "Axvis_Wq-kUK"
      }
    },
    {
      "cell_type": "code",
      "source": [
        "a = np.arange(5)\n",
        "print(a)\n",
        "np.mean(a) "
      ],
      "metadata": {
        "colab": {
          "base_uri": "https://localhost:8080/"
        },
        "id": "C8b6WlgL-lDo",
        "outputId": "68b02ebf-fe40-4d47-aa52-90745ce3c86e"
      },
      "execution_count": 122,
      "outputs": [
        {
          "output_type": "stream",
          "name": "stdout",
          "text": [
            "[0 1 2 3 4]\n"
          ]
        },
        {
          "output_type": "execute_result",
          "data": {
            "text/plain": [
              "2.0"
            ]
          },
          "metadata": {},
          "execution_count": 122
        }
      ]
    },
    {
      "cell_type": "code",
      "source": [
        "a = np.arange(5)\n",
        "print(a)\n",
        "np.median(a) "
      ],
      "metadata": {
        "id": "qVxp46Ay-qXA"
      },
      "execution_count": null,
      "outputs": []
    },
    {
      "cell_type": "code",
      "source": [
        "a = np.arange(5)\n",
        "print(a)\n",
        "np.std(a) "
      ],
      "metadata": {
        "colab": {
          "base_uri": "https://localhost:8080/"
        },
        "id": "RuYgkr9F-s7K",
        "outputId": "9791c41f-1e8c-475b-c464-fa57a9201b91"
      },
      "execution_count": 121,
      "outputs": [
        {
          "output_type": "stream",
          "name": "stdout",
          "text": [
            "[0 1 2 3 4]\n"
          ]
        },
        {
          "output_type": "execute_result",
          "data": {
            "text/plain": [
              "1.4142135623730951"
            ]
          },
          "metadata": {},
          "execution_count": 121
        }
      ]
    }
  ]
}